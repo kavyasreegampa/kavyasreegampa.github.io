{
 "cells": [
  {
   "cell_type": "code",
   "execution_count": 5,
   "id": "f1d48c0f",
   "metadata": {},
   "outputs": [
    {
     "name": "stdout",
     "output_type": "stream",
     "text": [
      "hello world\n"
     ]
    }
   ],
   "source": [
    "print(\"hello world\")"
   ]
  },
  {
   "cell_type": "code",
   "execution_count": 1,
   "id": "10df3a5d",
   "metadata": {},
   "outputs": [
    {
     "name": "stdout",
     "output_type": "stream",
     "text": [
      "My Azure Batch 2022\n"
     ]
    }
   ],
   "source": [
    "print(\"My Azure Batch 2022\")"
   ]
  },
  {
   "cell_type": "code",
   "execution_count": 2,
   "id": "9ab3994d",
   "metadata": {},
   "outputs": [
    {
     "data": {
      "text/plain": [
       "3"
      ]
     },
     "execution_count": 2,
     "metadata": {},
     "output_type": "execute_result"
    }
   ],
   "source": [
    "1+2"
   ]
  },
  {
   "cell_type": "code",
   "execution_count": null,
   "id": "c4e837bd",
   "metadata": {},
   "outputs": [],
   "source": [
    "High level , Low level Comuting languages "
   ]
  },
  {
   "cell_type": "code",
   "execution_count": null,
   "id": "5606a53b",
   "metadata": {},
   "outputs": [],
   "source": [
    "high level ----> ( interpreter, compiler)----> machine\n",
    "                  ( low level)-----> machine "
   ]
  },
  {
   "cell_type": "code",
   "execution_count": null,
   "id": "8c147295",
   "metadata": {},
   "outputs": [],
   "source": [
    "## Rules of Talking ( Data Types)"
   ]
  },
  {
   "cell_type": "code",
   "execution_count": null,
   "id": "fa9108d6",
   "metadata": {},
   "outputs": [],
   "source": [
    "1. Numbers\n",
    "2. Strings\n",
    "3. Booleans"
   ]
  },
  {
   "cell_type": "code",
   "execution_count": 3,
   "id": "68341c26",
   "metadata": {},
   "outputs": [],
   "source": [
    "a =1 "
   ]
  },
  {
   "cell_type": "code",
   "execution_count": 4,
   "id": "2e5e0cf6",
   "metadata": {},
   "outputs": [
    {
     "name": "stdout",
     "output_type": "stream",
     "text": [
      "1\n"
     ]
    }
   ],
   "source": [
    "print(a)"
   ]
  },
  {
   "cell_type": "code",
   "execution_count": 5,
   "id": "5f5782a8",
   "metadata": {},
   "outputs": [
    {
     "data": {
      "text/plain": [
       "int"
      ]
     },
     "execution_count": 5,
     "metadata": {},
     "output_type": "execute_result"
    }
   ],
   "source": [
    "type(a)"
   ]
  },
  {
   "cell_type": "code",
   "execution_count": 6,
   "id": "56c35a15",
   "metadata": {},
   "outputs": [],
   "source": [
    "b= 'azure_batch'"
   ]
  },
  {
   "cell_type": "code",
   "execution_count": 7,
   "id": "bd3bf164",
   "metadata": {},
   "outputs": [
    {
     "data": {
      "text/plain": [
       "str"
      ]
     },
     "execution_count": 7,
     "metadata": {},
     "output_type": "execute_result"
    }
   ],
   "source": [
    "type(b)"
   ]
  },
  {
   "cell_type": "code",
   "execution_count": 8,
   "id": "0a61304e",
   "metadata": {},
   "outputs": [
    {
     "data": {
      "text/plain": [
       "1"
      ]
     },
     "execution_count": 8,
     "metadata": {},
     "output_type": "execute_result"
    }
   ],
   "source": [
    "a*a"
   ]
  },
  {
   "cell_type": "code",
   "execution_count": 9,
   "id": "218b12ef",
   "metadata": {},
   "outputs": [
    {
     "data": {
      "text/plain": [
       "'azure_batchazure_batch'"
      ]
     },
     "execution_count": 9,
     "metadata": {},
     "output_type": "execute_result"
    }
   ],
   "source": [
    "b+b"
   ]
  },
  {
   "cell_type": "code",
   "execution_count": 10,
   "id": "7de2e10d",
   "metadata": {},
   "outputs": [],
   "source": [
    "c=True"
   ]
  },
  {
   "cell_type": "code",
   "execution_count": 11,
   "id": "2aaea537",
   "metadata": {},
   "outputs": [
    {
     "name": "stdout",
     "output_type": "stream",
     "text": [
      "True\n"
     ]
    }
   ],
   "source": [
    "print(c)"
   ]
  },
  {
   "cell_type": "code",
   "execution_count": 12,
   "id": "6d0be13f",
   "metadata": {},
   "outputs": [
    {
     "data": {
      "text/plain": [
       "bool"
      ]
     },
     "execution_count": 12,
     "metadata": {},
     "output_type": "execute_result"
    }
   ],
   "source": [
    "type(c)"
   ]
  },
  {
   "cell_type": "code",
   "execution_count": 13,
   "id": "5cab457e",
   "metadata": {},
   "outputs": [
    {
     "data": {
      "text/plain": [
       "2"
      ]
     },
     "execution_count": 13,
     "metadata": {},
     "output_type": "execute_result"
    }
   ],
   "source": [
    "a+a"
   ]
  },
  {
   "cell_type": "code",
   "execution_count": 14,
   "id": "1bc2c224",
   "metadata": {},
   "outputs": [],
   "source": [
    "a=\"I am a 454543 student\""
   ]
  },
  {
   "cell_type": "code",
   "execution_count": 15,
   "id": "b0e59046",
   "metadata": {},
   "outputs": [
    {
     "data": {
      "text/plain": [
       "str"
      ]
     },
     "execution_count": 15,
     "metadata": {},
     "output_type": "execute_result"
    }
   ],
   "source": [
    "type(a)"
   ]
  },
  {
   "cell_type": "code",
   "execution_count": 16,
   "id": "0a6255dd",
   "metadata": {},
   "outputs": [
    {
     "data": {
      "text/plain": [
       "'I am a '"
      ]
     },
     "execution_count": 16,
     "metadata": {},
     "output_type": "execute_result"
    }
   ],
   "source": [
    "a[:7] ## Characteritics of a string "
   ]
  },
  {
   "cell_type": "code",
   "execution_count": 17,
   "id": "36d46d52",
   "metadata": {},
   "outputs": [
    {
     "data": {
      "text/plain": [
       "21"
      ]
     },
     "execution_count": 17,
     "metadata": {},
     "output_type": "execute_result"
    }
   ],
   "source": [
    "len(a)"
   ]
  },
  {
   "cell_type": "code",
   "execution_count": 18,
   "id": "93e03812",
   "metadata": {},
   "outputs": [
    {
     "data": {
      "text/plain": [
       "'454543 '"
      ]
     },
     "execution_count": 18,
     "metadata": {},
     "output_type": "execute_result"
    }
   ],
   "source": [
    "a[7:14]"
   ]
  },
  {
   "cell_type": "code",
   "execution_count": null,
   "id": "cb44c0ea",
   "metadata": {},
   "outputs": [],
   "source": [
    "Indexing : \n",
    "'Hello'\n",
    "0,1,2,3,4"
   ]
  },
  {
   "cell_type": "code",
   "execution_count": 20,
   "id": "11da7e7a",
   "metadata": {},
   "outputs": [],
   "source": [
    "my_string = \"I am a wonderfull person\""
   ]
  },
  {
   "cell_type": "code",
   "execution_count": 21,
   "id": "ee2bbaac",
   "metadata": {},
   "outputs": [
    {
     "data": {
      "text/plain": [
       "'I am'"
      ]
     },
     "execution_count": 21,
     "metadata": {},
     "output_type": "execute_result"
    }
   ],
   "source": [
    "my_string[0:4]"
   ]
  },
  {
   "cell_type": "code",
   "execution_count": 22,
   "id": "3593dc06",
   "metadata": {},
   "outputs": [
    {
     "data": {
      "text/plain": [
       "'l person'"
      ]
     },
     "execution_count": 22,
     "metadata": {},
     "output_type": "execute_result"
    }
   ],
   "source": [
    "my_string[-8:]"
   ]
  },
  {
   "cell_type": "code",
   "execution_count": 23,
   "id": "be069422",
   "metadata": {},
   "outputs": [
    {
     "data": {
      "text/plain": [
       "'l person'"
      ]
     },
     "execution_count": 23,
     "metadata": {},
     "output_type": "execute_result"
    }
   ],
   "source": [
    "my_string[len(my_string)-8:]"
   ]
  },
  {
   "cell_type": "code",
   "execution_count": null,
   "id": "8a7a9eb0",
   "metadata": {},
   "outputs": [],
   "source": [
    "my_string[start:end]"
   ]
  },
  {
   "cell_type": "code",
   "execution_count": null,
   "id": "dbbd9ae9",
   "metadata": {},
   "outputs": [],
   "source": [
    "### Operators "
   ]
  },
  {
   "cell_type": "code",
   "execution_count": null,
   "id": "2f4b886b",
   "metadata": {},
   "outputs": [],
   "source": [
    "Certain mathematical operations :\n",
    "arithmatic, comparision, logical, bitwise, assignment"
   ]
  },
  {
   "cell_type": "code",
   "execution_count": null,
   "id": "8083a7ef",
   "metadata": {},
   "outputs": [],
   "source": [
    "a =8\n",
    "b=9"
   ]
  },
  {
   "cell_type": "code",
   "execution_count": 25,
   "id": "012bb9cb",
   "metadata": {},
   "outputs": [
    {
     "data": {
      "text/plain": [
       "False"
      ]
     },
     "execution_count": 25,
     "metadata": {},
     "output_type": "execute_result"
    }
   ],
   "source": [
    "a==b"
   ]
  },
  {
   "cell_type": "code",
   "execution_count": 26,
   "id": "0cbe836e",
   "metadata": {},
   "outputs": [
    {
     "data": {
      "text/plain": [
       "4.0"
      ]
     },
     "execution_count": 26,
     "metadata": {},
     "output_type": "execute_result"
    }
   ],
   "source": [
    "40/10"
   ]
  },
  {
   "cell_type": "code",
   "execution_count": 27,
   "id": "901438bd",
   "metadata": {},
   "outputs": [
    {
     "data": {
      "text/plain": [
       "6.2"
      ]
     },
     "execution_count": 27,
     "metadata": {},
     "output_type": "execute_result"
    }
   ],
   "source": [
    "12.4/2"
   ]
  },
  {
   "cell_type": "code",
   "execution_count": 28,
   "id": "b2adb7c4",
   "metadata": {},
   "outputs": [
    {
     "data": {
      "text/plain": [
       "6.0"
      ]
     },
     "execution_count": 28,
     "metadata": {},
     "output_type": "execute_result"
    }
   ],
   "source": [
    "## floor* \n",
    "12.4//2"
   ]
  },
  {
   "cell_type": "code",
   "execution_count": 31,
   "id": "06ea938e",
   "metadata": {},
   "outputs": [
    {
     "ename": "SyntaxError",
     "evalue": "invalid syntax (Temp/ipykernel_8144/4038287252.py, line 1)",
     "output_type": "error",
     "traceback": [
      "\u001b[1;36m  File \u001b[1;32m\"C:\\Users\\KAVYAS~1\\AppData\\Local\\Temp/ipykernel_8144/4038287252.py\"\u001b[1;36m, line \u001b[1;32m1\u001b[0m\n\u001b[1;33m    (10-3*2) *** Operators of prcedence *** BODMAS\u001b[0m\n\u001b[1;37m               ^\u001b[0m\n\u001b[1;31mSyntaxError\u001b[0m\u001b[1;31m:\u001b[0m invalid syntax\n"
     ]
    }
   ],
   "source": [
    "(10-3*2) *** Operators of prcedence *** BODMAS"
   ]
  },
  {
   "cell_type": "code",
   "execution_count": 30,
   "id": "93da46d7",
   "metadata": {},
   "outputs": [
    {
     "data": {
      "text/plain": [
       "4"
      ]
     },
     "execution_count": 30,
     "metadata": {},
     "output_type": "execute_result"
    }
   ],
   "source": [
    "10-(3*2)"
   ]
  },
  {
   "cell_type": "code",
   "execution_count": null,
   "id": "d9610dac",
   "metadata": {},
   "outputs": [],
   "source": [
    ">, < , = , != , "
   ]
  },
  {
   "cell_type": "code",
   "execution_count": 32,
   "id": "bc2ca788",
   "metadata": {},
   "outputs": [
    {
     "data": {
      "text/plain": [
       "False"
      ]
     },
     "execution_count": 32,
     "metadata": {},
     "output_type": "execute_result"
    }
   ],
   "source": [
    "num1 = 10\n",
    "num2 = 15\n",
    "num1>num2"
   ]
  },
  {
   "cell_type": "code",
   "execution_count": 33,
   "id": "e4e5be9b",
   "metadata": {},
   "outputs": [],
   "source": [
    "num = [1,2,4,5,6,8,9,0,4]"
   ]
  },
  {
   "cell_type": "code",
   "execution_count": 34,
   "id": "2bd07154",
   "metadata": {},
   "outputs": [
    {
     "data": {
      "text/plain": [
       "[1, 2, 4, 5, 6, 8, 9, 0, 4]"
      ]
     },
     "execution_count": 34,
     "metadata": {},
     "output_type": "execute_result"
    }
   ],
   "source": [
    "num"
   ]
  },
  {
   "cell_type": "markdown",
   "id": "87e8e5ec",
   "metadata": {},
   "source": [
    "## Conditional Statements : \n",
    "if \n",
    "if else\n",
    "if elseif "
   ]
  },
  {
   "cell_type": "code",
   "execution_count": 36,
   "id": "fe18a89c",
   "metadata": {},
   "outputs": [],
   "source": [
    "num = 5"
   ]
  },
  {
   "cell_type": "code",
   "execution_count": 37,
   "id": "1cc22d7e",
   "metadata": {},
   "outputs": [
    {
     "name": "stdout",
     "output_type": "stream",
     "text": [
      "my number is equal to 5\n"
     ]
    }
   ],
   "source": [
    " ## Defining a variable  ( indentation )\n",
    "## The nubmer of files you are chekcing in the folder ?? \n",
    "\n",
    "if (num==5):\n",
    "  print(\"my number is equal to 5\")\n",
    "else:\n",
    "  print(\" my number is not equal to 5\")"
   ]
  },
  {
   "cell_type": "code",
   "execution_count": 38,
   "id": "783843d1",
   "metadata": {},
   "outputs": [
    {
     "name": "stdout",
     "output_type": "stream",
     "text": [
      "number is not divsible by 2,3,4\n"
     ]
    }
   ],
   "source": [
    "if (num%2==0 and num%3==0 and num%4==0):\n",
    "  print(\"number is divisible by 2,3,4\")\n",
    "else:\n",
    "  print(\"number is not divsible by 2,3,4\")"
   ]
  },
  {
   "cell_type": "code",
   "execution_count": 39,
   "id": "571382c6",
   "metadata": {},
   "outputs": [],
   "source": [
    "num =60 "
   ]
  },
  {
   "cell_type": "code",
   "execution_count": 40,
   "id": "25345b19",
   "metadata": {},
   "outputs": [
    {
     "name": "stdout",
     "output_type": "stream",
     "text": [
      "my number is greater than 50\n"
     ]
    }
   ],
   "source": [
    "if num<=50:\n",
    "  print(\"my nubmer is less than 50\")\n",
    "else:\n",
    "  print(\"my number is greater than 50\")"
   ]
  },
  {
   "cell_type": "code",
   "execution_count": 41,
   "id": "16755ea3",
   "metadata": {},
   "outputs": [
    {
     "name": "stdout",
     "output_type": "stream",
     "text": [
      "good to go\n"
     ]
    }
   ],
   "source": [
    "light = 'Green'\n",
    "\n",
    "\n",
    "if light.lower() =='red':\n",
    "  print(\"Stop immidiatley\")\n",
    "elif light.lower()=='yellow':\n",
    "  print(\"be cautious\")\n",
    "elif light.lower()=='green':\n",
    "  print('good to go')\n",
    "\n",
    "else:\n",
    "  print(\"Incorrect light, can do anything \")"
   ]
  },
  {
   "cell_type": "markdown",
   "id": "ff3d656c",
   "metadata": {},
   "source": [
    "Shop --> \n",
    "price > 300, discount = 30%\n",
    "price 200 to 300 ,discount = 20%\n",
    "otherwise no discount \n",
    "\n",
    "price , final sales price"
   ]
  },
  {
   "cell_type": "markdown",
   "id": "82b627b3",
   "metadata": {},
   "source": [
    "## Function : "
   ]
  },
  {
   "cell_type": "code",
   "execution_count": 42,
   "id": "fef8f2d4",
   "metadata": {},
   "outputs": [
    {
     "data": {
      "text/plain": [
       "5"
      ]
     },
     "execution_count": 42,
     "metadata": {},
     "output_type": "execute_result"
    }
   ],
   "source": [
    "a=2\n",
    "b=3\n",
    "a+b"
   ]
  },
  {
   "cell_type": "markdown",
   "id": "57bd3c88",
   "metadata": {},
   "source": [
    "Input ----> ( Set of instruction) ------> output"
   ]
  },
  {
   "cell_type": "markdown",
   "id": "a6702ead",
   "metadata": {},
   "source": [
    "minimum ----> "
   ]
  },
  {
   "cell_type": "markdown",
   "id": "c1e2bcc4",
   "metadata": {},
   "source": [
    "1. Built in function\n",
    "2. User defined function"
   ]
  },
  {
   "cell_type": "code",
   "execution_count": 44,
   "id": "5e77f388",
   "metadata": {},
   "outputs": [],
   "source": [
    "a = 'my azure batch'"
   ]
  },
  {
   "cell_type": "code",
   "execution_count": 45,
   "id": "77bc3515",
   "metadata": {},
   "outputs": [
    {
     "data": {
      "text/plain": [
       "14"
      ]
     },
     "execution_count": 45,
     "metadata": {},
     "output_type": "execute_result"
    }
   ],
   "source": [
    "len(a)"
   ]
  },
  {
   "cell_type": "code",
   "execution_count": 46,
   "id": "714320e6",
   "metadata": {},
   "outputs": [],
   "source": [
    "def addition(a,b):  ## defination block ( input has to be passed here)\n",
    "  summation = a+b   ## Body of the fucntion (set of instructions )\n",
    "  return(summation) ## ( send the output to you)"
   ]
  },
  {
   "cell_type": "code",
   "execution_count": 47,
   "id": "1dc436c7",
   "metadata": {},
   "outputs": [
    {
     "data": {
      "text/plain": [
       "30"
      ]
     },
     "execution_count": 47,
     "metadata": {},
     "output_type": "execute_result"
    }
   ],
   "source": [
    "addition(20,10)"
   ]
  },
  {
   "cell_type": "code",
   "execution_count": 48,
   "id": "428cfbd8",
   "metadata": {},
   "outputs": [
    {
     "name": "stdout",
     "output_type": "stream",
     "text": [
      "50\n",
      "80\n"
     ]
    }
   ],
   "source": [
    "## Scoping of a function \n",
    "sum1 = 50  ## Scope is global here for defination purposes\n",
    "\n",
    "def add1(a,b):\n",
    "  sum1 = a+b\n",
    "  return(sum1)\n",
    "\n",
    "add1(10,20)\n",
    "print(sum1)\n",
    "\n",
    "print(sum1 + 30 )"
   ]
  },
  {
   "cell_type": "code",
   "execution_count": 49,
   "id": "c6efc67c",
   "metadata": {},
   "outputs": [
    {
     "data": {
      "text/plain": [
       "30"
      ]
     },
     "execution_count": 49,
     "metadata": {},
     "output_type": "execute_result"
    }
   ],
   "source": [
    "add1(20,10)"
   ]
  },
  {
   "cell_type": "code",
   "execution_count": 50,
   "id": "4d05a0aa",
   "metadata": {},
   "outputs": [
    {
     "name": "stdout",
     "output_type": "stream",
     "text": [
      "50\n"
     ]
    }
   ],
   "source": [
    "print(sum1)"
   ]
  },
  {
   "cell_type": "code",
   "execution_count": 51,
   "id": "3a2efe5d",
   "metadata": {},
   "outputs": [
    {
     "name": "stdout",
     "output_type": "stream",
     "text": [
      "3\n"
     ]
    }
   ],
   "source": [
    "## String functions : \n",
    "\n",
    "my_string = \" this is a string \"\n",
    "\n",
    "print(my_string.find('is'))"
   ]
  },
  {
   "cell_type": "code",
   "execution_count": 52,
   "id": "a3f4531b",
   "metadata": {},
   "outputs": [],
   "source": [
    "def multiply(n1,n2):\n",
    "  return(n1*n2)\n",
    "\n",
    "def divsion1(n1,n2):\n",
    "  return(n1/n2)\n",
    "\n",
    "def add(n1,n2):\n",
    "  return(n1+n2)\n",
    "\n",
    "def sub(n1,n2):\n",
    "  return(n1-n2)"
   ]
  },
  {
   "cell_type": "code",
   "execution_count": 53,
   "id": "f262c938",
   "metadata": {},
   "outputs": [
    {
     "data": {
      "text/plain": [
       "5.0"
      ]
     },
     "execution_count": 53,
     "metadata": {},
     "output_type": "execute_result"
    }
   ],
   "source": [
    "divsion1(10,2)"
   ]
  },
  {
   "cell_type": "code",
   "execution_count": 54,
   "id": "4f6a53e4",
   "metadata": {},
   "outputs": [
    {
     "data": {
      "text/plain": [
       "20"
      ]
     },
     "execution_count": 54,
     "metadata": {},
     "output_type": "execute_result"
    }
   ],
   "source": [
    "multiply(10,2)"
   ]
  },
  {
   "cell_type": "code",
   "execution_count": 55,
   "id": "6112e33d",
   "metadata": {},
   "outputs": [],
   "source": [
    "def calculator(operation,n1,n2):\n",
    "  return(operation(n1,n2))"
   ]
  },
  {
   "cell_type": "code",
   "execution_count": 56,
   "id": "9a182287",
   "metadata": {},
   "outputs": [
    {
     "data": {
      "text/plain": [
       "6"
      ]
     },
     "execution_count": 56,
     "metadata": {},
     "output_type": "execute_result"
    }
   ],
   "source": [
    "calculator(multiply,2,3)"
   ]
  },
  {
   "cell_type": "code",
   "execution_count": 57,
   "id": "ed307e07",
   "metadata": {},
   "outputs": [
    {
     "data": {
      "text/plain": [
       "' string '"
      ]
     },
     "execution_count": 57,
     "metadata": {},
     "output_type": "execute_result"
    }
   ],
   "source": [
    "my_string[len(my_string)-8:]"
   ]
  },
  {
   "cell_type": "markdown",
   "id": "3c4c3581",
   "metadata": {},
   "source": [
    "## Loops : "
   ]
  },
  {
   "cell_type": "code",
   "execution_count": null,
   "id": "0bfb2b4d",
   "metadata": {},
   "outputs": [],
   "source": [
    "for, while, "
   ]
  },
  {
   "cell_type": "code",
   "execution_count": 58,
   "id": "3e64b58e",
   "metadata": {},
   "outputs": [],
   "source": [
    "import time "
   ]
  },
  {
   "cell_type": "code",
   "execution_count": 63,
   "id": "1d12b396",
   "metadata": {},
   "outputs": [
    {
     "ename": "SyntaxError",
     "evalue": "invalid syntax (Temp/ipykernel_8144/99346363.py, line 1)",
     "output_type": "error",
     "traceback": [
      "\u001b[1;36m  File \u001b[1;32m\"C:\\Users\\KAVYAS~1\\AppData\\Local\\Temp/ipykernel_8144/99346363.py\"\u001b[1;36m, line \u001b[1;32m1\u001b[0m\n\u001b[1;33m    for i in arange(1,10)\u001b[0m\n\u001b[1;37m                         ^\u001b[0m\n\u001b[1;31mSyntaxError\u001b[0m\u001b[1;31m:\u001b[0m invalid syntax\n"
     ]
    }
   ],
   "source": [
    "for i in arange(1,10)"
   ]
  },
  {
   "cell_type": "code",
   "execution_count": 64,
   "id": "b187fb6a",
   "metadata": {},
   "outputs": [],
   "source": [
    "my_string = \"Missisipi\""
   ]
  },
  {
   "cell_type": "code",
   "execution_count": 65,
   "id": "24ab8ff7",
   "metadata": {},
   "outputs": [
    {
     "name": "stdout",
     "output_type": "stream",
     "text": [
      "M\n",
      "i\n",
      "s\n",
      "s\n",
      "i\n",
      "s\n",
      "i\n",
      "p\n",
      "i\n"
     ]
    }
   ],
   "source": [
    "for i in my_string:\n",
    "  print(i)\n",
    "  time.sleep(5)"
   ]
  },
  {
   "cell_type": "code",
   "execution_count": 66,
   "id": "61175fb0",
   "metadata": {},
   "outputs": [
    {
     "name": "stdout",
     "output_type": "stream",
     "text": [
      "1\n",
      "4\n",
      "9\n",
      "16\n",
      "25\n",
      "36\n",
      "49\n",
      "64\n",
      "81\n",
      "100\n"
     ]
    }
   ],
   "source": [
    "for i in range(1,11):\n",
    "  print(i**2)\n",
    "  time.sleep(2)"
   ]
  },
  {
   "cell_type": "markdown",
   "id": "71d8c34c",
   "metadata": {},
   "source": [
    "sum for all the first 100 integeers "
   ]
  },
  {
   "cell_type": "code",
   "execution_count": null,
   "id": "d0a32a69",
   "metadata": {},
   "outputs": [],
   "source": [
    "1+2+3+4."
   ]
  },
  {
   "cell_type": "code",
   "execution_count": 69,
   "id": "72988218",
   "metadata": {},
   "outputs": [
    {
     "name": "stdout",
     "output_type": "stream",
     "text": [
      "1\n",
      "0\n",
      "after iteration 1\n",
      "2\n",
      "1\n",
      "after iteration 3\n",
      "3\n",
      "3\n",
      "after iteration 6\n",
      "4\n",
      "6\n",
      "after iteration 10\n",
      "5\n",
      "10\n",
      "after iteration 15\n",
      "6\n",
      "15\n",
      "after iteration 21\n",
      "7\n",
      "21\n",
      "after iteration 28\n",
      "8\n",
      "28\n",
      "after iteration 36\n",
      "9\n",
      "36\n",
      "after iteration 45\n",
      "10\n",
      "45\n",
      "after iteration 55\n"
     ]
    }
   ],
   "source": [
    "sum=0\n",
    "for i in range(1,11):\n",
    "  print(i)\n",
    "  print(sum)\n",
    "  sum=sum+i\n",
    "  time.sleep(5)\n",
    "  print('after iteration',sum)"
   ]
  },
  {
   "cell_type": "code",
   "execution_count": 70,
   "id": "0b9bc9fd",
   "metadata": {},
   "outputs": [
    {
     "name": "stdout",
     "output_type": "stream",
     "text": [
      "60\n",
      "59\n",
      "58\n",
      "57\n",
      "56\n",
      "55\n",
      "54\n",
      "53\n",
      "52\n",
      "51\n",
      "50\n"
     ]
    }
   ],
   "source": [
    "value = 60\n",
    "while value>=50:\n",
    "  print(value)\n",
    "  time.sleep(2)\n",
    "  value = value-1"
   ]
  },
  {
   "cell_type": "markdown",
   "id": "d8f604f8",
   "metadata": {},
   "source": [
    "### Practice : Loops, Functions, String slicing, data variables "
   ]
  },
  {
   "cell_type": "markdown",
   "id": "52a40f52",
   "metadata": {},
   "source": [
    "#### square, rectagngle, triange\n",
    "Area --- A function (square,a,b)\n",
    "\n",
    "def square(a,b):\n",
    "\n",
    "def rect\n",
    "\n",
    "def traing\n",
    "\n",
    "def Area(shape,a,b):"
   ]
  },
  {
   "cell_type": "code",
   "execution_count": 71,
   "id": "63226ec6",
   "metadata": {},
   "outputs": [],
   "source": [
    "def square(a,b):  \n",
    "  area = a*b\n",
    "  return(area)\n",
    "\n",
    "def rectangle(a,b):\n",
    "  area = a*b\n",
    "  return (area)\n",
    "\n",
    "def triangle(b,h):\n",
    "  area =1/2*b*h\n",
    "  return(area)"
   ]
  },
  {
   "cell_type": "code",
   "execution_count": 72,
   "id": "e6aacbda",
   "metadata": {},
   "outputs": [],
   "source": [
    "def Area(shape,a,b):\n",
    "  return(shape(a,b))"
   ]
  },
  {
   "cell_type": "markdown",
   "id": "49620be5",
   "metadata": {},
   "source": [
    "##fibonacci series :"
   ]
  },
  {
   "cell_type": "code",
   "execution_count": 68,
   "id": "7264cc55",
   "metadata": {},
   "outputs": [
    {
     "ename": "SyntaxError",
     "evalue": "invalid syntax (Temp/ipykernel_8144/3823751833.py, line 1)",
     "output_type": "error",
     "traceback": [
      "\u001b[1;36m  File \u001b[1;32m\"C:\\Users\\KAVYAS~1\\AppData\\Local\\Temp/ipykernel_8144/3823751833.py\"\u001b[1;36m, line \u001b[1;32m1\u001b[0m\n\u001b[1;33m    square(2,2). ## Calling function\u001b[0m\n\u001b[1;37m                 ^\u001b[0m\n\u001b[1;31mSyntaxError\u001b[0m\u001b[1;31m:\u001b[0m invalid syntax\n"
     ]
    }
   ],
   "source": [
    "square(2,2). ## Calling function "
   ]
  },
  {
   "cell_type": "code",
   "execution_count": 73,
   "id": "8a2eb34a",
   "metadata": {},
   "outputs": [],
   "source": [
    "def area():\n",
    "  area_square1 = square(2,2)\n",
    "  if area_square1 > 10:\n",
    "    print('cirlce is good')\n",
    "  else:\n",
    "    print('circle is bad')\n",
    "    \n",
    "  retrun(area_square)"
   ]
  },
  {
   "cell_type": "markdown",
   "id": "caa8206f",
   "metadata": {},
   "source": [
    "# NEsted loops \n",
    "\n",
    "*\n",
    "* *\n",
    "* * *\n",
    "* * * * \n",
    "* * * * * \n",
    "* * * * * * \n",
    "* * * * * * * "
   ]
  },
  {
   "cell_type": "code",
   "execution_count": 74,
   "id": "5a215eb7",
   "metadata": {},
   "outputs": [
    {
     "name": "stdout",
     "output_type": "stream",
     "text": [
      "* \n",
      "** \n",
      "*** \n",
      "**** \n",
      "***** \n",
      "****** \n",
      "******* \n"
     ]
    }
   ],
   "source": [
    "for i in range(0,7): \n",
    "  for j in range(0,i+1):\n",
    "    print(\"*\", end='')\n",
    "\n",
    "  print(' ')"
   ]
  },
  {
   "cell_type": "code",
   "execution_count": null,
   "id": "15573a1b",
   "metadata": {},
   "outputs": [],
   "source": []
  },
  {
   "cell_type": "code",
   "execution_count": null,
   "id": "396e6d77",
   "metadata": {},
   "outputs": [],
   "source": []
  },
  {
   "cell_type": "code",
   "execution_count": null,
   "id": "32480b00",
   "metadata": {},
   "outputs": [],
   "source": []
  },
  {
   "cell_type": "code",
   "execution_count": null,
   "id": "f504885f",
   "metadata": {},
   "outputs": [],
   "source": []
  }
 ],
 "metadata": {
  "kernelspec": {
   "display_name": "Python 3 (ipykernel)",
   "language": "python",
   "name": "python3"
  },
  "language_info": {
   "codemirror_mode": {
    "name": "ipython",
    "version": 3
   },
   "file_extension": ".py",
   "mimetype": "text/x-python",
   "name": "python",
   "nbconvert_exporter": "python",
   "pygments_lexer": "ipython3",
   "version": "3.9.7"
  }
 },
 "nbformat": 4,
 "nbformat_minor": 5
}
